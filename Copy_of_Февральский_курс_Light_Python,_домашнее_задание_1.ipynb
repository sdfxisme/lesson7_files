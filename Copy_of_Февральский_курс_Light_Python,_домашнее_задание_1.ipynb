{
  "nbformat": 4,
  "nbformat_minor": 0,
  "metadata": {
    "kernelspec": {
      "display_name": "Python 3",
      "language": "python",
      "name": "python3"
    },
    "language_info": {
      "codemirror_mode": {
        "name": "ipython",
        "version": 3
      },
      "file_extension": ".py",
      "mimetype": "text/x-python",
      "name": "python",
      "nbconvert_exporter": "python",
      "pygments_lexer": "ipython3",
      "version": "3.6.8"
    },
    "colab": {
      "name": "Copy of Февральский курс. Light. Python, домашнее задание 1",
      "provenance": [],
      "collapsed_sections": [],
      "include_colab_link": true
    }
  },
  "cells": [
    {
      "cell_type": "markdown",
      "metadata": {
        "id": "view-in-github",
        "colab_type": "text"
      },
      "source": [
        "<a href=\"https://colab.research.google.com/github/sdfxisme/lesson7_files/blob/master/Copy_of_%D0%A4%D0%B5%D0%B2%D1%80%D0%B0%D0%BB%D1%8C%D1%81%D0%BA%D0%B8%D0%B9_%D0%BA%D1%83%D1%80%D1%81_Light_Python%2C_%D0%B4%D0%BE%D0%BC%D0%B0%D1%88%D0%BD%D0%B5%D0%B5_%D0%B7%D0%B0%D0%B4%D0%B0%D0%BD%D0%B8%D0%B5_1.ipynb\" target=\"_parent\"><img src=\"https://colab.research.google.com/assets/colab-badge.svg\" alt=\"Open In Colab\"/></a>"
      ]
    },
    {
      "cell_type": "markdown",
      "metadata": {
        "id": "U7hoFvcehdnc",
        "colab_type": "text"
      },
      "source": [
        "## Домашнее задание 1: Введение в Python"
      ]
    },
    {
      "cell_type": "markdown",
      "metadata": {
        "id": "0cQ01NCnkysR",
        "colab_type": "text"
      },
      "source": [
        "## Light версия"
      ]
    },
    {
      "cell_type": "markdown",
      "metadata": {
        "id": "bW_kKRKthdn7",
        "colab_type": "text"
      },
      "source": [
        "### Задача 1\n",
        "\n",
        "Считайте с входящей строки два целых числа и выведите их сумму, разность, произведение."
      ]
    },
    {
      "cell_type": "code",
      "metadata": {
        "id": "94j1VQDYweUe",
        "colab_type": "code",
        "colab": {
          "base_uri": "https://localhost:8080/",
          "height": 66
        },
        "outputId": "aaa2c4ac-340f-48df-a80b-5637303de9ca"
      },
      "source": [
        "a = int(input())\n",
        "b = int(input())\n",
        "print(a+b, a-b, a*b)"
      ],
      "execution_count": 5,
      "outputs": [
        {
          "output_type": "stream",
          "text": [
            "3\n",
            "4\n",
            "7 -1 12\n"
          ],
          "name": "stdout"
        }
      ]
    },
    {
      "cell_type": "markdown",
      "metadata": {
        "id": "PguJdnEqhdoI",
        "colab_type": "text"
      },
      "source": [
        "### Задача 2\n",
        "\n",
        "Дан ряд целых чисел от 10 до 25 включительно. Используя цикл for выведите на экран сумму двух последовательно идущих чисел.\n",
        "\n",
        "\n",
        "**Пример**: \n",
        "\n",
        "Для ряда от 2 до 6 включительно выдача выглядит так: \n",
        "\n",
        "5\n",
        "\n",
        "7\n",
        "\n",
        "9\n",
        "\n",
        "11\n"
      ]
    },
    {
      "cell_type": "code",
      "metadata": {
        "id": "ZkSEewkzz-ZS",
        "colab_type": "code",
        "colab": {
          "base_uri": "https://localhost:8080/",
          "height": 261
        },
        "outputId": "ae1d697c-690f-4cc0-f4bb-f9b927254b6f"
      },
      "source": [
        "for i in range(10,25):\n",
        "  print(i+i+1)"
      ],
      "execution_count": 7,
      "outputs": [
        {
          "output_type": "stream",
          "text": [
            "21\n",
            "23\n",
            "25\n",
            "27\n",
            "29\n",
            "31\n",
            "33\n",
            "35\n",
            "37\n",
            "39\n",
            "41\n",
            "43\n",
            "45\n",
            "47\n",
            "49\n"
          ],
          "name": "stdout"
        }
      ]
    },
    {
      "cell_type": "markdown",
      "metadata": {
        "id": "CZpydHtThdoR",
        "colab_type": "text"
      },
      "source": [
        "### Задача 3\n",
        "\n",
        "Для ряда целых чисел от 100 до 150 включительно выведите на экран только те, что делятся на 5 без остатка."
      ]
    },
    {
      "cell_type": "code",
      "metadata": {
        "id": "sa3GV3XW0YGA",
        "colab_type": "code",
        "colab": {
          "base_uri": "https://localhost:8080/",
          "height": 196
        },
        "outputId": "5e1e980c-33a7-44ab-9785-932d877ea942"
      },
      "source": [
        "for i in range(100,151):\n",
        "  if i%5 == 0 : print(i)"
      ],
      "execution_count": 9,
      "outputs": [
        {
          "output_type": "stream",
          "text": [
            "100\n",
            "105\n",
            "110\n",
            "115\n",
            "120\n",
            "125\n",
            "130\n",
            "135\n",
            "140\n",
            "145\n",
            "150\n"
          ],
          "name": "stdout"
        }
      ]
    },
    {
      "cell_type": "markdown",
      "metadata": {
        "id": "_L4Bd414hdog",
        "colab_type": "text"
      },
      "source": [
        "### Задача 4\n",
        "\n",
        "Считайте с входящей строки целое положительное число и сохраните его в переменную N. Используя конструкцию if...else выведите на экран результат в зависимости от условий:\n",
        "\n",
        "* Если N нечетное, то выведите на экран \"N нечетное\"\n",
        "* Если N четное и входит в интервал от 5 до 10 включительно, выведите на экран \"N четное и принадлежит интервалу [5, 10]\"\n",
        "* Если N четное и больше 10, выведите на экран \"N четное и N > 10\"\n",
        "* Если N четное и меньше 5, выведите на экран \"N четное и N < 5\""
      ]
    },
    {
      "cell_type": "code",
      "metadata": {
        "id": "vVi-NmQ10vzq",
        "colab_type": "code",
        "colab": {
          "base_uri": "https://localhost:8080/",
          "height": 50
        },
        "outputId": "3681452c-20f1-46ed-eead-5cc06e525de5"
      },
      "source": [
        "N = int(input())\n",
        "if N%2 == 1 : print('N нечетное')\n",
        "if N%2 == 0 and 5<=N<=10 : print('N четное и принадлежит интервалу [5,10]')\n",
        "if N%2 == 0 and N>10: print('N четное и N>10')\n",
        "if N%2 == 0 and N<5: print('N четное и N<5') "
      ],
      "execution_count": 15,
      "outputs": [
        {
          "output_type": "stream",
          "text": [
            "8\n",
            "N четное и принадлежит интервалу [5,10]\n"
          ],
          "name": "stdout"
        }
      ]
    },
    {
      "cell_type": "markdown",
      "metadata": {
        "id": "WQweBQ8nhdol",
        "colab_type": "text"
      },
      "source": [
        "### Задача 5\n",
        "\n",
        "Используя цикл while, посчитайте и выведите на экран сумму всех целых чисел от 15 до 22 включительно.\n"
      ]
    },
    {
      "cell_type": "code",
      "metadata": {
        "id": "KI2AjKgi5e0v",
        "colab_type": "code",
        "colab": {
          "base_uri": "https://localhost:8080/",
          "height": 33
        },
        "outputId": "c46d105d-6a4c-4a09-b6e5-6ad6adcfce98"
      },
      "source": [
        "x=0\n",
        "n=15\n",
        "while n<23:\n",
        "  x+=n\n",
        "  n+=1\n",
        "print(x)"
      ],
      "execution_count": 21,
      "outputs": [
        {
          "output_type": "stream",
          "text": [
            "148\n"
          ],
          "name": "stdout"
        }
      ]
    },
    {
      "cell_type": "markdown",
      "metadata": {
        "id": "YhJKiRAchdow",
        "colab_type": "text"
      },
      "source": [
        "### Задача 6\n",
        "\n",
        "Используя цикл for, найдите сумму всех элементов заданного списка. (Без использования встроенных функций sum и т.д.)"
      ]
    },
    {
      "cell_type": "code",
      "metadata": {
        "id": "Im5W6TNGhdo6",
        "colab_type": "code",
        "colab": {
          "base_uri": "https://localhost:8080/",
          "height": 33
        },
        "outputId": "7905b9b1-e588-4a25-9067-a2fdd9372030"
      },
      "source": [
        "my_list = [56, 23, 67, 45, 67, 2, 47, 158, 31, 34, 78, 23, 78, 23, 89, 23, 36]\n",
        "x=0\n",
        "for i in range(0, len(my_list)):\n",
        "  x+=my_list[i]\n",
        "print(x)  "
      ],
      "execution_count": 18,
      "outputs": [
        {
          "output_type": "stream",
          "text": [
            "880\n"
          ],
          "name": "stdout"
        }
      ]
    },
    {
      "cell_type": "markdown",
      "metadata": {
        "id": "wIZELo0mhdpU",
        "colab_type": "text"
      },
      "source": [
        "### Задача 7\n",
        "\n",
        "Используя цикл (любой) найдите значение максимального элемента списка из предыдущего задания. (Без использования встроенных функций max и т.д.) Можно использовать встроенные методы списков (любые). \n",
        "\n",
        "P.S.: не стесняйтесь гуглить :)\n",
        "\n",
        "P.S.2: гуглить нужно фразу \"алгоритм поиска максимального элемента массива\"\n",
        "\n",
        "Пример: для списка [3, 4, 1, 7, 2] значением максимального элемента является число 7"
      ]
    },
    {
      "cell_type": "code",
      "metadata": {
        "id": "Sx67o_xL6OJU",
        "colab_type": "code",
        "colab": {
          "base_uri": "https://localhost:8080/",
          "height": 33
        },
        "outputId": "975cb31a-942b-4d1c-e600-5f553097fb4f"
      },
      "source": [
        "x=0\n",
        "for i in range (0,len(my_list)):\n",
        "  if my_list[i]>x : x = my_list[i]\n",
        "print(x)"
      ],
      "execution_count": 22,
      "outputs": [
        {
          "output_type": "stream",
          "text": [
            "158\n"
          ],
          "name": "stdout"
        }
      ]
    },
    {
      "cell_type": "markdown",
      "metadata": {
        "id": "omPfU7u9hdpi",
        "colab_type": "text"
      },
      "source": [
        "### Задача 8\n",
        "\n",
        "Создайте словарь, соответствующий следующему описанию: \n",
        "    \n",
        "В честь 8 марта начальник отдела Валера решил принести на работу коробку конфет и угостить коллег :) Красотка Наташа съела две конфеты, ее подруга Алина - целых три, разработчик Марат унес с собой в соседний опен-спейс целых пятнадцать, чтобы поделиться со своей командой, менеджер проекта Лев проходил мимо и съел одну конфету, а сам Валера, будучи сторонником здорового образа жизни, ни съел ни одной.\n",
        "\n",
        "P.S. все совпадения случайны :)"
      ]
    },
    {
      "cell_type": "code",
      "metadata": {
        "id": "ssD4kV4V6-rk",
        "colab_type": "code",
        "colab": {
          "base_uri": "https://localhost:8080/",
          "height": 33
        },
        "outputId": "35fa6440-fbe2-4e93-a22d-51bff7f884ef"
      },
      "source": [
        "dict1 = {'Наташа':2, 'Алина':3, 'Марат':15, 'Лев':1, 'Валера':0}\n",
        "print(dict1)"
      ],
      "execution_count": 23,
      "outputs": [
        {
          "output_type": "stream",
          "text": [
            "{'Наташа': 2, 'Алина': 3, 'Марат': 15, 'Лев': 1, 'Валера': 0}\n"
          ],
          "name": "stdout"
        }
      ]
    },
    {
      "cell_type": "markdown",
      "metadata": {
        "id": "UUK9d5hUhdpz",
        "colab_type": "text"
      },
      "source": [
        "### Задача 9\n",
        "\n",
        "Добавьте в словарь из предыдущего задания данные для студента Ромы, который работает неполный рабочий день, и, придя на работу после экзамена, с удовольствием съел 4 конфеты.\n",
        "\n",
        "P.S. используйте встроенный метод .update"
      ]
    },
    {
      "cell_type": "code",
      "metadata": {
        "id": "agk59TO57rRp",
        "colab_type": "code",
        "colab": {
          "base_uri": "https://localhost:8080/",
          "height": 33
        },
        "outputId": "8b50ed71-dadf-4955-9604-ae1a0a1f55e8"
      },
      "source": [
        "dict2 = {'Рома':4}\n",
        "dict1.update(dict2)\n",
        "print(dict1)"
      ],
      "execution_count": 24,
      "outputs": [
        {
          "output_type": "stream",
          "text": [
            "{'Наташа': 2, 'Алина': 3, 'Марат': 15, 'Лев': 1, 'Валера': 0, 'Рома': 4}\n"
          ],
          "name": "stdout"
        }
      ]
    },
    {
      "cell_type": "markdown",
      "metadata": {
        "id": "vpQOcxmhhdp9",
        "colab_type": "text"
      },
      "source": [
        "## Pro версия"
      ]
    },
    {
      "cell_type": "markdown",
      "metadata": {
        "id": "g9pd3inChdqC",
        "colab_type": "text"
      },
      "source": [
        "### Задача 1\n",
        "\n",
        "Выведите на экран следующий паттерн:\n",
        "\n",
        "@\n",
        "\n",
        "@ @\n",
        "\n",
        "@ @ @\n",
        "\n",
        "@ @ @ @ @\n",
        "\n",
        "Обратите внимание на пробел между символами"
      ]
    },
    {
      "cell_type": "code",
      "metadata": {
        "id": "G43jn-0M8HPA",
        "colab_type": "code",
        "colab": {
          "base_uri": "https://localhost:8080/",
          "height": 82
        },
        "outputId": "8235604d-edbb-4f22-e187-759eea9a69ae"
      },
      "source": [
        "for i in range(1,5):\n",
        "  print('@ '*i)"
      ],
      "execution_count": 25,
      "outputs": [
        {
          "output_type": "stream",
          "text": [
            "@ \n",
            "@ @ \n",
            "@ @ @ \n",
            "@ @ @ @ \n"
          ],
          "name": "stdout"
        }
      ]
    },
    {
      "cell_type": "markdown",
      "metadata": {
        "id": "Vh7SqVB5hdqL",
        "colab_type": "text"
      },
      "source": [
        "### Задача 2\n",
        "\n",
        "Выведите на экран следующий паттерн:\n",
        "\n",
        "1\n",
        "\n",
        "2 2 \n",
        "\n",
        "3 3 3 \n",
        "\n",
        "4 4 4 4 \n",
        "\n",
        "5 5 5 5 5\n",
        "\n",
        "6 6 6 6\n",
        "\n",
        "7 7 7\n",
        "\n",
        "8 8\n",
        "\n",
        "9\n",
        "\n",
        "Обратите внимание на пробел между символами"
      ]
    },
    {
      "cell_type": "code",
      "metadata": {
        "id": "3av6mhzr8bnZ",
        "colab_type": "code",
        "colab": {
          "base_uri": "https://localhost:8080/",
          "height": 163
        },
        "outputId": "127e695c-eb6a-4da4-f9bb-b8d047054840"
      },
      "source": [
        "for i in range (1,6): print((str(i)+' ')*i)\n",
        "for i in range (6,10): print ((str(i)+' ')*(10-i))"
      ],
      "execution_count": 26,
      "outputs": [
        {
          "output_type": "stream",
          "text": [
            "1 \n",
            "2 2 \n",
            "3 3 3 \n",
            "4 4 4 4 \n",
            "5 5 5 5 5 \n",
            "6 6 6 6 \n",
            "7 7 7 \n",
            "8 8 \n",
            "9 \n"
          ],
          "name": "stdout"
        }
      ]
    },
    {
      "cell_type": "markdown",
      "metadata": {
        "id": "IMoF_J7AhdqT",
        "colab_type": "text"
      },
      "source": [
        "### Задача 3\n",
        "\n",
        "Используя цикл while, выведите на экран таблицу умножения для числа 7.\n",
        "\n",
        "**Пример:**\n",
        "    \n",
        "Для числе 5 выдача выглядит так:\n",
        "    \n",
        "5 * 1 = 5\n",
        "\n",
        "5 * 2 = 10\n",
        "\n",
        "5 * 3 = 15\n",
        "\n",
        "5 * 4 = 20\n",
        "\n",
        "5 * 5 = 25\n",
        "\n",
        "...\n",
        "\n",
        "5 * 9 = 45"
      ]
    },
    {
      "cell_type": "code",
      "metadata": {
        "id": "5aKPfRC89MSv",
        "colab_type": "code",
        "colab": {
          "base_uri": "https://localhost:8080/",
          "height": 163
        },
        "outputId": "df93aa6e-15f3-4cc0-a2f3-75db734add67"
      },
      "source": [
        "i = 1\n",
        "while i<10:\n",
        "  print('7 * {} = {}'.format(i,7*i))\n",
        "  i+=1"
      ],
      "execution_count": 28,
      "outputs": [
        {
          "output_type": "stream",
          "text": [
            "7 * 1 = 7\n",
            "7 * 2 = 14\n",
            "7 * 3 = 21\n",
            "7 * 4 = 28\n",
            "7 * 5 = 35\n",
            "7 * 6 = 42\n",
            "7 * 7 = 49\n",
            "7 * 8 = 56\n",
            "7 * 9 = 63\n"
          ],
          "name": "stdout"
        }
      ]
    },
    {
      "cell_type": "markdown",
      "metadata": {
        "id": "rvEbKNeIhdqY",
        "colab_type": "text"
      },
      "source": [
        "### Задача 4\n",
        "\n",
        "Представьте, что вы подбрасываете два кубика одновременно. Считайте с входящей строки два целых числа d1 и d2. Проверьте, соответсуют ли введенные числа интервалу значений для кубика. Если нет, то выведите на экран строку \"Ошибка! Значение на кубике (1 или 2, вставьте подходящее значение) не входит в интервал [1, 6]\". В противном случае посчитайте сумму выпавших значений. Если сумма равна 7 или 11, выведите на экран \"Я победил!!!\". Если сумма равна 2, 3 или 12, то выведите на экран \"Я проиграл :(\". Во всех остальных случаях выведите на экран сумму значений.\n"
      ]
    },
    {
      "cell_type": "code",
      "metadata": {
        "id": "I1b9WPLI96rx",
        "colab_type": "code",
        "colab": {
          "base_uri": "https://localhost:8080/",
          "height": 66
        },
        "outputId": "d8038f9e-9768-45e7-db69-ade507de8711"
      },
      "source": [
        "d1 = int(input())\n",
        "if d1<1 or d1>6 : print('Значение на кубике 1 не входит винтервал [1,6]')\n",
        "d2 = int(input())\n",
        "if d2<1 or d2>6: print('Значение на кубике 2 не входит в интервал [1,6]')\n",
        "if d1+d2 == 7 or d1+d2 == 11: print ('Я победил!!!')\n",
        "elif d1+d2 == 2 or d1+d2 == 3 or d1+d2 == 12: print ('Я проиграл :)')\n",
        "else: print (d1+d2)"
      ],
      "execution_count": 34,
      "outputs": [
        {
          "output_type": "stream",
          "text": [
            "5\n",
            "6\n",
            "Я победил!!!\n"
          ],
          "name": "stdout"
        }
      ]
    },
    {
      "cell_type": "markdown",
      "metadata": {
        "id": "OTSU9QTLhdqe",
        "colab_type": "text"
      },
      "source": [
        "### Задача 5\n",
        "\n",
        "Напишите код, который ищет все числа в интервале от 3000 до 4300 включительно, делящиеся на 11, но не делящиеся на 5. Выведите на экран все найденные числа."
      ]
    },
    {
      "cell_type": "code",
      "metadata": {
        "id": "wkiM3hAsAVdK",
        "colab_type": "code",
        "colab": {}
      },
      "source": [
        "for i in range(3000, 4301):\n",
        "  if i%11 == 0 and i%5 != 0: print(i)"
      ],
      "execution_count": 0,
      "outputs": []
    },
    {
      "cell_type": "markdown",
      "metadata": {
        "id": "m-pYH0xDhdqk",
        "colab_type": "text"
      },
      "source": [
        "### Задача 6\n",
        "\n",
        "Используя циклы, напишите код, который создает список (list) путем конкатенации значений данного листа с целыми числами от 1 до (произвольного) n включительно.\n",
        "\n",
        "Пример:\n",
        "\n",
        "для списка [\"сосиски\", \"горчица\"] при n = 3 результат должен выглядеть так:\n",
        "\n",
        "['сосиски$\\_$1', 'горчица$\\_$1', 'сосиски$\\_2$', 'горчица$\\_$2', 'сосиски$\\_$3', 'горчица$\\_$3']"
      ]
    },
    {
      "cell_type": "code",
      "metadata": {
        "id": "Eqz3zAL-hdqq",
        "colab_type": "code",
        "colab": {
          "base_uri": "https://localhost:8080/",
          "height": 53
        },
        "outputId": "5f9dfe14-6b77-4f28-de8e-2d0b46cd84db"
      },
      "source": [
        "sample_list = [\"мандаринки\", \"киви\", \"лимон\"]\n",
        "new_list =[]\n",
        "for i in range(1,10):\n",
        "  new_list.append(sample_list[0]+'_'+str(i))\n",
        "  new_list.append(sample_list[1]+'_'+str(i))\n",
        "  new_list.append(sample_list[2]+'_'+str(i))\n",
        "print(new_list)\n"
      ],
      "execution_count": 39,
      "outputs": [
        {
          "output_type": "stream",
          "text": [
            "['мандаринки_1', 'киви_1', 'лимон_1', 'мандаринки_2', 'киви_2', 'лимон_2', 'мандаринки_3', 'киви_3', 'лимон_3', 'мандаринки_4', 'киви_4', 'лимон_4', 'мандаринки_5', 'киви_5', 'лимон_5', 'мандаринки_6', 'киви_6', 'лимон_6', 'мандаринки_7', 'киви_7', 'лимон_7', 'мандаринки_8', 'киви_8', 'лимон_8', 'мандаринки_9', 'киви_9', 'лимон_9']\n"
          ],
          "name": "stdout"
        }
      ]
    },
    {
      "cell_type": "markdown",
      "metadata": {
        "id": "WtwsV6BRhdrE",
        "colab_type": "text"
      },
      "source": [
        "### Задача 7\n",
        "\n",
        "Напишите код, который считает количество элементов в заданном списке до тех пор, пока не встретится элемент типа словарь.\n",
        "\n",
        "Пример:\n",
        "\n",
        "для списка [3, \"котики\", 0.45, 5, {'котики' : 2, 'слоники' : 9}, \"слоники\", 34] на выходе должны получить число 4"
      ]
    },
    {
      "cell_type": "code",
      "metadata": {
        "id": "m5iv-Hj9hdrM",
        "colab_type": "code",
        "outputId": "3bf63978-dfb4-4c72-bd3a-3d55bf2100c8",
        "colab": {
          "base_uri": "https://localhost:8080/",
          "height": 50
        }
      },
      "source": [
        "list_for_pro_task_2 = [35, 0.24, 3 + 4j, \"котики\", 0.45, (8, 9), \"слоники\", {\"Мадрид\": 3, 'Лондон':5}, 23498]\n",
        "print(list_for_pro_task_2)\n",
        "for i in range(0, len(list_for_pro_task_2)):\n",
        "  if isinstance(list_for_pro_task_2[i],dict):print (i)"
      ],
      "execution_count": 40,
      "outputs": [
        {
          "output_type": "stream",
          "text": [
            "[35, 0.24, (3+4j), 'котики', 0.45, (8, 9), 'слоники', {'Мадрид': 3, 'Лондон': 5}, 23498]\n",
            "7\n"
          ],
          "name": "stdout"
        }
      ]
    },
    {
      "cell_type": "markdown",
      "metadata": {
        "id": "fHMBDh-ahdrz",
        "colab_type": "text"
      },
      "source": [
        "### Задача 8\n",
        "\n",
        "Создайте словарь (dict) c ключами, соответствующими числам от 1 до 20 включительно и значениями, соответствующими квадратам ключей. \n",
        "\n",
        "P.S. используйте циклы или функции, прямое \"ручное\" присваивание не допускается (!!!)\n",
        "\n",
        "Пример: \n",
        "\n",
        "для чисел от 1 до 3 включительно словарь должен выглядеть так: {1 : 1, 2 : 4, 3 : 9}"
      ]
    },
    {
      "cell_type": "code",
      "metadata": {
        "id": "8awhHoIhFNj9",
        "colab_type": "code",
        "colab": {
          "base_uri": "https://localhost:8080/",
          "height": 50
        },
        "outputId": "647d51dd-54d6-4577-ba09-1ca22387716a"
      },
      "source": [
        "dict7 = {}\n",
        "for i in range(1,21):\n",
        "  dict4 = {i:i**2}\n",
        "  dict7.update(dict4)\n",
        "print(dict7)  \n",
        "\n",
        "dict8 ={}\n",
        "for i in range (1,21):\n",
        "  dict8[i] = i**2\n",
        "print(dict8)  "
      ],
      "execution_count": 45,
      "outputs": [
        {
          "output_type": "stream",
          "text": [
            "{1: 1, 2: 4, 3: 9, 4: 16, 5: 25, 6: 36, 7: 49, 8: 64, 9: 81, 10: 100, 11: 121, 12: 144, 13: 169, 14: 196, 15: 225, 16: 256, 17: 289, 18: 324, 19: 361, 20: 400}\n",
            "{1: 1, 2: 4, 3: 9, 4: 16, 5: 25, 6: 36, 7: 49, 8: 64, 9: 81, 10: 100, 11: 121, 12: 144, 13: 169, 14: 196, 15: 225, 16: 256, 17: 289, 18: 324, 19: 361, 20: 400}\n"
          ],
          "name": "stdout"
        }
      ]
    }
  ]
}